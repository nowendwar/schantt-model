{
 "cells": [
  {
   "cell_type": "markdown",
   "id": "e9aff51c",
   "metadata": {},
   "source": [
    "What are changes we can make to extend the target users of this model beyond bakery manufacturers?\n",
    "\n",
    "Maybe in other industries which has similar scheduling logic."
   ]
  },
  {
   "cell_type": "code",
   "execution_count": null,
   "id": "091acd7b",
   "metadata": {},
   "outputs": [],
   "source": [
    "# Instead of BakeryHybridSchedulingProblem\n",
    "class MultiStageFlowshopSchedulingProblem(Problem):\n",
    "    ...\n",
    "    # Use job_types, process_stages, etc."
   ]
  },
  {
   "cell_type": "markdown",
   "id": "b30b9967",
   "metadata": {},
   "source": [
    "Great question! Your model is already quite flexible, and with a few generalizations, it can be extended to many other industries that have similar multi-stage, multi-machine, batch or flowshop scheduling needs.\n",
    "\n",
    "---\n",
    "\n",
    "## **Industries with Similar Scheduling Logic**\n",
    "\n",
    "- **Food & Beverage Processing** (e.g., dairy, meat, beverage bottling)\n",
    "- **Pharmaceuticals** (multi-stage drug production, packaging)\n",
    "- **Chemical Processing** (batch reactors, mixing, packaging)\n",
    "- **Automotive & Electronics Assembly** (multi-stage assembly lines)\n",
    "- **Textile & Garment Manufacturing** (cutting, sewing, finishing)\n",
    "- **Metalworking & Fabrication** (casting, machining, finishing)\n",
    "- **Plastic & Rubber Products** (injection molding, curing, assembly)\n",
    "- **Printing & Packaging** (multi-stage printing, folding, binding)\n",
    "- **Logistics & Warehousing** (order picking, packing, shipping)\n",
    "- **Semiconductor Manufacturing** (wafer processing, assembly, testing)\n",
    "\n",
    "---\n",
    "\n",
    "## **Changes to Generalize the Model**\n",
    "\n",
    "### 1. **Rename Bakery-Specific Terms**\n",
    "- Change class and variable names from `BakeryHybridSchedulingProblem`, `recipe`, etc., to more generic terms like `Job`, `Product`, `Process`, or `Task`.\n",
    "    - Example: `recipe_ids` → `job_types` or `product_types`\n",
    "    - Example: `order_quantities` → `batch_sizes` or `job_quantities`\n",
    "\n",
    "### 2. **Parameterize Process Steps**\n",
    "- Allow users to define any number of stages and machines per stage, not just those typical for bakeries.\n",
    "- Make `required_stages` a generic mapping: which jobs/products require which stages.\n",
    "\n",
    "### 3. **Generalize Input Data**\n",
    "- Allow users to upload or input their own process times, changeover times, flow rates, wait/transport times, etc., for their specific industry.\n",
    "\n",
    "### 4. **Add/Remove Constraints**\n",
    "- Make constraints (like no-wait, buffer limits, max wait, etc.) configurable.\n",
    "- Allow for optional constraints such as storage/buffer capacity, perishability, or resource sharing.\n",
    "\n",
    "### 5. **Flexible Output**\n",
    "- Allow Gantt chart and schedule export to use generic labels (e.g., \"Stage\", \"Machine\", \"Job Type\") and customizable color schemes.\n",
    "\n",
    "### 6. **Documentation & Examples**\n",
    "- Provide example configurations for different industries (e.g., a dairy plant, a car assembly line, a chemical batch plant).\n",
    "\n",
    "---\n",
    "\n",
    "## **Example: Generalizing Class Names**\n",
    "\n"
   ]
  },
  {
   "cell_type": "markdown",
   "id": "25fa5778",
   "metadata": {},
   "source": [
    "\n",
    "\n",
    "---\n",
    "\n",
    "## **Summary Table**\n",
    "\n",
    "| Bakery Term         | Generic Term         | Example Industry Use         |\n",
    "|---------------------|---------------------|-----------------------------|\n",
    "| Recipe              | Job/Product/Batch   | Electronics, Pharma         |\n",
    "| Stage               | Process Step/Stage  | Assembly, Chemical Reactor  |\n",
    "| Machine             | Machine/Resource    | Any                         |\n",
    "| Order Quantity      | Batch Size/Quantity | Any                         |\n",
    "| Flow Rate           | Throughput Rate     | Any                         |\n",
    "| Wait/Transport Time | Buffer/Transfer Time| Any                         |\n",
    "\n",
    "---\n",
    "\n",
    "**By making these changes, your model can be used for scheduling in almost any batch or flowshop production environment, not just bakeries.**"
   ]
  },
  {
   "cell_type": "markdown",
   "id": "20affbe9",
   "metadata": {},
   "source": [
    "###"
   ]
  },
  {
   "cell_type": "code",
   "execution_count": null,
   "id": "e6afe67f",
   "metadata": {},
   "outputs": [],
   "source": []
  },
  {
   "cell_type": "markdown",
   "id": "dc7373dd",
   "metadata": {},
   "source": [
    "How would you implement this generalization?\n",
    "\n",
    "Add/Remove Constraints\n",
    "Make constraints (like no-wait, buffer limits, max wait, etc.) configurable.\n",
    "Allow for optional constraints such as storage/buffer capacity, perishability, or resource sharing."
   ]
  },
  {
   "cell_type": "markdown",
   "id": "23aeda47",
   "metadata": {},
   "source": [
    "To make constraints configurable and support optional constraints (like buffer limits, max wait, storage, perishability, resource sharing), you can follow this approach:\n",
    "\n",
    "---\n",
    "\n",
    "### 1. **Add Configurable Constraint Parameters**\n",
    "\n",
    "Add new parameters to your problem class for each constraint you want to support. For example:\n",
    "\n"
   ]
  },
  {
   "cell_type": "code",
   "execution_count": null,
   "id": "f07c1c78",
   "metadata": {},
   "outputs": [],
   "source": [
    "class HybridFlowshopSchedulingProblem(Problem):\n",
    "    def __init__(\n",
    "        self,\n",
    "        ...,\n",
    "        max_buffer_per_stage=None,\n",
    "        max_wait_per_stage=None,\n",
    "        storage_costs=None,\n",
    "        perishable_lifetimes=None,\n",
    "        shared_resources=None,\n",
    "        enforce_no_wait=False,\n",
    "        ...\n",
    "    ):\n",
    "        ...\n",
    "        self.max_buffer_per_stage = max_buffer_per_stage  # e.g., [10, 5, 8, ...]\n",
    "        self.max_wait_per_stage = max_wait_per_stage      # e.g., [30, 20, 15, ...] (minutes)\n",
    "        self.storage_costs = storage_costs                # e.g., [cost_per_minute_per_stage]\n",
    "        self.perishable_lifetimes = perishable_lifetimes  # e.g., [lifetime_per_product]\n",
    "        self.shared_resources = shared_resources          # e.g., dict of resource: [stage indices]\n",
    "        self.enforce_no_wait = enforce_no_wait            # bool\n",
    "        ..."
   ]
  },
  {
   "cell_type": "markdown",
   "id": "8bc01a72",
   "metadata": {},
   "source": [
    "\n",
    "\n",
    "---\n",
    "\n",
    "### 2. **Modify Scheduling Logic to Use Constraints**\n",
    "\n",
    "**A. No-wait/Max-wait Constraint:**\n"
   ]
  },
  {
   "cell_type": "code",
   "execution_count": null,
   "id": "e57070ea",
   "metadata": {},
   "outputs": [],
   "source": [
    "# ...existing code...\n",
    "if s_position == 0:\n",
    "    start_time = machine_ready_time\n",
    "else:\n",
    "    prev_s = required_stages[s_position - 1]\n",
    "    transfer_time = self.transfer_times[job_product_index, prev_s]\n",
    "    wait_time = transfer_time\n",
    "    required_start = end_times[job_idx, prev_s] + wait_time - cumulative_tact_time\n",
    "\n",
    "    # Enforce no-wait if configured\n",
    "    if self.enforce_no_wait:\n",
    "        max_wait = 0\n",
    "    elif self.max_wait_per_stage is not None:\n",
    "        max_wait = self.max_wait_per_stage[prev_s]\n",
    "    else:\n",
    "        max_wait = None\n",
    "\n",
    "    if max_wait is not None:\n",
    "        # Clamp the wait time to max_wait\n",
    "        required_start = min(required_start, end_times[job_idx, prev_s] + max_wait)\n",
    "\n",
    "    start_time = max(required_start, machine_ready_time)\n",
    "# ...existing code..."
   ]
  },
  {
   "cell_type": "markdown",
   "id": "c9cf7b87",
   "metadata": {},
   "source": [
    "\n",
    "\n",
    "**B. Buffer/Storage Constraint:**\n",
    "- Track the number of jobs waiting at each stage.\n",
    "- Before allowing a job to wait, check if the buffer is full.\n",
    "\n",
    "**C. Perishability Constraint:**\n",
    "- Track the time since the job started.\n",
    "- If the time exceeds `perishable_lifetimes`, penalize or invalidate the schedule.\n",
    "\n",
    "**D. Shared Resource Constraint:**\n",
    "- Track resource usage across stages.\n",
    "- Prevent overlapping use of shared resources.\n",
    "\n",
    "---\n",
    "\n",
    "### 3. **Constraint Handling in pymoo**\n",
    "\n",
    "If you want to use constraints in pymoo, you can add them as part of the `n_constr` and set values in the `out[\"G\"]` array in `_evaluate`. For example:\n",
    "\n"
   ]
  },
  {
   "cell_type": "code",
   "execution_count": null,
   "id": "3349e568",
   "metadata": {},
   "outputs": [],
   "source": [
    "def _evaluate(self, X, out, *args, **kwargs):\n",
    "    makespans = []\n",
    "    constraint_violations = []\n",
    "    for x in X:\n",
    "        makespan, violation = self.calculate_makespan_with_constraints(x)\n",
    "        makespans.append(makespan)\n",
    "        constraint_violations.append(violation)\n",
    "    out[\"F\"] = np.array(makespans)\n",
    "    out[\"G\"] = np.array(constraint_violations)"
   ]
  },
  {
   "cell_type": "markdown",
   "id": "b91fdb00",
   "metadata": {},
   "source": [
    "\n",
    "\n",
    "---\n",
    "\n",
    "### 4. **User Interface for Constraints**\n",
    "\n",
    "- Allow users to specify which constraints to enable and their parameters (e.g., via config file, UI, or function arguments).\n",
    "\n",
    "---\n",
    "\n",
    "### 5. **Documentation**\n",
    "\n",
    "- Document each constraint, its effect, and how to configure it.\n",
    "\n",
    "---\n",
    "\n",
    "**Summary Table**\n",
    "\n",
    "| Constraint         | Parameter Name         | How to Use in Logic                  |\n",
    "|--------------------|-----------------------|--------------------------------------|\n",
    "| No-wait            | `enforce_no_wait`     | Set max_wait = 0                     |\n",
    "| Max wait           | `max_wait_per_stage`  | Clamp wait time per stage            |\n",
    "| Buffer limit       | `max_buffer_per_stage`| Track waiting jobs per stage         |\n",
    "| Storage cost       | `storage_costs`       | Add to objective function            |\n",
    "| Perishability      | `perishable_lifetimes`| Penalize/forbid expired jobs         |\n",
    "| Shared resources   | `shared_resources`    | Prevent overlap in resource usage    |\n",
    "\n",
    "---\n",
    "\n",
    "**This approach makes your model highly flexible and applicable to many industries and scenarios.**"
   ]
  },
  {
   "cell_type": "code",
   "execution_count": null,
   "id": "84d524a6",
   "metadata": {},
   "outputs": [],
   "source": []
  },
  {
   "cell_type": "markdown",
   "id": "a47ff9db",
   "metadata": {},
   "source": [
    "Now that the model is quite good, I want to develop this model into a full web application using Django as backend, and some JavaScript library to visualize the gantt chart later.\n",
    "\n",
    "The application is expected to serve many company (each company can have many users to use the app) across the world, all user's data will store in a single Postgres database.\n",
    "\n",
    "I have already used a boilerplate in Django for user profile, company (a team), account, login, payment etc...\n",
    "So let's focus on converting the optimization model to django app(s) only."
   ]
  }
 ],
 "metadata": {
  "language_info": {
   "name": "python"
  }
 },
 "nbformat": 4,
 "nbformat_minor": 5
}
